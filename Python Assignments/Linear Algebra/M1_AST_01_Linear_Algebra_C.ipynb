{
  "nbformat": 4,
  "nbformat_minor": 0,
  "metadata": {
    "colab": {
      "provenance": []
    },
    "kernelspec": {
      "name": "python3",
      "display_name": "Python 3"
    },
    "language_info": {
      "name": "python"
    }
  },
  "cells": [
    {
      "cell_type": "markdown",
      "metadata": {
        "id": "p4Nwm4FK3wgU"
      },
      "source": [
        "# Advanced Programme in Deep Learning (Foundations and Applications)\n",
        "## A Program by IISc and TalentSprint\n",
        "### Assignment 2: Linear Algebra"
      ]
    },
    {
      "cell_type": "markdown",
      "metadata": {
        "id": "dHj34EaN5oa5"
      },
      "source": [
        "## Learning Objectives"
      ]
    },
    {
      "cell_type": "markdown",
      "metadata": {
        "id": "-vPeurvKNAEz"
      },
      "source": [
        "At the end of the assignment, you will be able to\n",
        "* understand matrix, types of matrix, vectors and its related operations\n",
        "\n"
      ]
    },
    {
      "cell_type": "markdown",
      "metadata": {
        "id": "BNLA8HiKxQhc"
      },
      "source": [
        "### Setup Steps:"
      ]
    },
    {
      "cell_type": "code",
      "metadata": {
        "id": "xWMVQWk58aXm"
      },
      "source": [
        "#@title Please enter your registration id to start: { run: \"auto\", display-mode: \"form\" }\n",
        "Id = \"2418729\" #@param {type:\"string\"}"
      ],
      "execution_count": 1,
      "outputs": []
    },
    {
      "cell_type": "code",
      "metadata": {
        "id": "cwqosl928dBA"
      },
      "source": [
        "#@title Please enter your password (normally your phone number) to continue: { run: \"auto\", display-mode: \"form\" }\n",
        "password = \"81548026\" #@param {type:\"string\"}"
      ],
      "execution_count": 2,
      "outputs": []
    },
    {
      "cell_type": "code",
      "metadata": {
        "cellView": "form",
        "id": "PTh2bRQ-fuis",
        "colab": {
          "base_uri": "https://localhost:8080/",
          "height": 34
        },
        "outputId": "3a142c50-5657-4a2c-8342-6be057012f1d"
      },
      "source": [
        "#@title Run this cell to complete the setup for this Notebook\n",
        "from IPython import get_ipython\n",
        "import warnings\n",
        "warnings.filterwarnings(\"ignore\")\n",
        "\n",
        "ipython = get_ipython()\n",
        "\n",
        "notebook= \"M1_AST_01_Linear_Algebra_C\" #name of the notebook\n",
        "\n",
        "def setup():\n",
        "    from IPython.display import HTML, display\n",
        "    display(HTML('<script src=\"https://dashboard.talentsprint.com/aiml/record_ip.html?traineeId={0}&recordId={1}\"></script>'.format(getId(),submission_id)))\n",
        "    print(\"Setup completed successfully\")\n",
        "    return\n",
        "\n",
        "def submit_notebook():\n",
        "    ipython.magic(\"notebook -e \"+ notebook + \".ipynb\")\n",
        "\n",
        "    import requests, json, base64, datetime\n",
        "\n",
        "    url = \"https://dashboard.talentsprint.com/xp/app/save_notebook_attempts\"\n",
        "    if not submission_id:\n",
        "      data = {\"id\" : getId(), \"notebook\" : notebook, \"mobile\" : getPassword()}\n",
        "      r = requests.post(url, data = data)\n",
        "      r = json.loads(r.text)\n",
        "\n",
        "      if r[\"status\"] == \"Success\":\n",
        "          return r[\"record_id\"]\n",
        "      elif \"err\" in r:\n",
        "        print(r[\"err\"])\n",
        "        return None\n",
        "      else:\n",
        "        print (\"Something is wrong, the notebook will not be submitted for grading\")\n",
        "        return None\n",
        "\n",
        "    elif getAnswer1() and getAnswer2() and getComplexity() and getAdditional() and getConcepts() and getComments() and getMentorSupport():\n",
        "      f = open(notebook + \".ipynb\", \"rb\")\n",
        "      file_hash = base64.b64encode(f.read())\n",
        "\n",
        "      data = {\"complexity\" : Complexity, \"additional\" :Additional,\n",
        "              \"concepts\" : Concepts, \"record_id\" : submission_id,\n",
        "              \"answer1\" : Answer1, \"answer2\" : Answer2, \"id\" : Id, \"file_hash\" : file_hash,\n",
        "              \"notebook\" : notebook,\n",
        "              \"feedback_experiments_input\" : Comments,\n",
        "              \"feedback_mentor_support\": Mentor_support}\n",
        "      r = requests.post(url, data = data)\n",
        "      r = json.loads(r.text)\n",
        "      if \"err\" in r:\n",
        "        print(r[\"err\"])\n",
        "        return None\n",
        "      else:\n",
        "        print(\"Your submission is successful.\")\n",
        "        print(\"Ref Id:\", submission_id)\n",
        "        print(\"Date of submission: \", r[\"date\"])\n",
        "        print(\"Time of submission: \", r[\"time\"])\n",
        "        print(\"View your submissions: https://learn-iisc.talentsprint.com/notebook_submissions\")\n",
        "        #print(\"For any queries/discrepancies, please connect with mentors through the chat icon in LMS dashboard.\")\n",
        "        return submission_id\n",
        "    else: submission_id\n",
        "\n",
        "\n",
        "def getAdditional():\n",
        "  try:\n",
        "    if not Additional:\n",
        "      raise NameError\n",
        "    else:\n",
        "      return Additional\n",
        "  except NameError:\n",
        "    print (\"Please answer Additional Question\")\n",
        "    return None\n",
        "\n",
        "def getComplexity():\n",
        "  try:\n",
        "    if not Complexity:\n",
        "      raise NameError\n",
        "    else:\n",
        "      return Complexity\n",
        "  except NameError:\n",
        "    print (\"Please answer Complexity Question\")\n",
        "    return None\n",
        "\n",
        "def getConcepts():\n",
        "  try:\n",
        "    if not Concepts:\n",
        "      raise NameError\n",
        "    else:\n",
        "      return Concepts\n",
        "  except NameError:\n",
        "    print (\"Please answer Concepts Question\")\n",
        "    return None\n",
        "\n",
        "\n",
        "# def getWalkthrough():\n",
        "#   try:\n",
        "#     if not Walkthrough:\n",
        "#       raise NameError\n",
        "#     else:\n",
        "#       return Walkthrough\n",
        "#   except NameError:\n",
        "#     print (\"Please answer Walkthrough Question\")\n",
        "#     return None\n",
        "\n",
        "def getComments():\n",
        "  try:\n",
        "    if not Comments:\n",
        "      raise NameError\n",
        "    else:\n",
        "      return Comments\n",
        "  except NameError:\n",
        "    print (\"Please answer Comments Question\")\n",
        "    return None\n",
        "\n",
        "\n",
        "def getMentorSupport():\n",
        "  try:\n",
        "    if not Mentor_support:\n",
        "      raise NameError\n",
        "    else:\n",
        "      return Mentor_support\n",
        "  except NameError:\n",
        "    print (\"Please answer Mentor support Question\")\n",
        "    return None\n",
        "\n",
        "def getAnswer1():\n",
        "  try:\n",
        "    if not Answer1:\n",
        "      raise NameError\n",
        "    else:\n",
        "      return Answer1\n",
        "  except NameError:\n",
        "    print (\"Please answer Question 1\")\n",
        "    return None\n",
        "\n",
        "def getAnswer2():\n",
        "  try:\n",
        "    if not Answer2:\n",
        "      raise NameError\n",
        "    else:\n",
        "      return Answer2\n",
        "  except NameError:\n",
        "    print (\"Please answer Question 2\")\n",
        "    return None\n",
        "\n",
        "\n",
        "def getId():\n",
        "  try:\n",
        "    return Id if Id else None\n",
        "  except NameError:\n",
        "    return None\n",
        "\n",
        "def getPassword():\n",
        "  try:\n",
        "    return password if password else None\n",
        "  except NameError:\n",
        "    return None\n",
        "\n",
        "submission_id = None\n",
        "### Setup\n",
        "if getPassword() and getId():\n",
        "  submission_id = submit_notebook()\n",
        "  if submission_id:\n",
        "    setup()\n",
        "else:\n",
        "  print (\"Please complete Id and Password cells before running setup\")\n",
        "\n"
      ],
      "execution_count": 3,
      "outputs": [
        {
          "output_type": "display_data",
          "data": {
            "text/plain": [
              "<IPython.core.display.HTML object>"
            ],
            "text/html": [
              "<script src=\"https://dashboard.talentsprint.com/aiml/record_ip.html?traineeId=2418729&recordId=148\"></script>"
            ]
          },
          "metadata": {}
        },
        {
          "output_type": "stream",
          "name": "stdout",
          "text": [
            "Setup completed successfully\n"
          ]
        }
      ]
    },
    {
      "cell_type": "markdown",
      "metadata": {
        "id": "n3NoHPIp2cD_"
      },
      "source": [
        "### Importing required packages"
      ]
    },
    {
      "cell_type": "code",
      "metadata": {
        "id": "RVxoU0VULvQJ"
      },
      "source": [
        "import numpy as np\n",
        "from math import *\n",
        "from numpy import array\n",
        "from numpy import diag\n",
        "from numpy import dot\n",
        "from numpy import zeros\n",
        "from numpy import linalg as la\n",
        "from numpy.linalg import eig"
      ],
      "execution_count": 4,
      "outputs": []
    },
    {
      "cell_type": "markdown",
      "metadata": {
        "id": "xKcaAPQsztm7"
      },
      "source": [
        "### Types of Matrix"
      ]
    },
    {
      "cell_type": "markdown",
      "metadata": {
        "id": "FXLJK17WoNV8"
      },
      "source": [
        "**Square Matrix**: In square matrix, the number of rows are equal to the number of columns."
      ]
    },
    {
      "cell_type": "markdown",
      "metadata": {
        "id": "tvEn246jz12l"
      },
      "source": [
        "1. Create a square matrix with elements 61 to 69."
      ]
    },
    {
      "cell_type": "code",
      "metadata": {
        "id": "dEFZ0ejYzzUO",
        "colab": {
          "base_uri": "https://localhost:8080/"
        },
        "outputId": "31b78d92-b421-4683-c9cd-29b39b8f3e5e"
      },
      "source": [
        "square_matrix = np.array([np.arange(61,64),np.arange(64,67), np.arange(67,70)])\n",
        "print(\"Square Matrix:\\n\",square_matrix)"
      ],
      "execution_count": 5,
      "outputs": [
        {
          "output_type": "stream",
          "name": "stdout",
          "text": [
            "Square Matrix:\n",
            " [[61 62 63]\n",
            " [64 65 66]\n",
            " [67 68 69]]\n"
          ]
        }
      ]
    },
    {
      "cell_type": "markdown",
      "metadata": {
        "id": "hutiOEovoSJe"
      },
      "source": [
        "\n",
        "**Upper Triangular Matrix**: It is a type of square matrix, where all the values below the main diagonal are 0.\n",
        "\n",
        "**Lower Triangular Matrix**: It is a type of square matrix, where all the values above the main diagonal are 0.\n"
      ]
    },
    {
      "cell_type": "markdown",
      "metadata": {
        "id": "1Qn7OVNAz_f0"
      },
      "source": [
        "2. Create an upper and lower triangular matrix of size 6x6 with random values."
      ]
    },
    {
      "cell_type": "code",
      "metadata": {
        "id": "ki_32Wwj0Cob",
        "colab": {
          "base_uri": "https://localhost:8080/"
        },
        "outputId": "13ede955-4eee-467f-bac2-ea6f49636884"
      },
      "source": [
        "matrix = np.random.rand(6,6)\n",
        "print(\"Original Matrix:\\n\",matrix)\n",
        "\n",
        "# Upper triangular matrix\n",
        "upper_triangular = np.triu(matrix)\n",
        "print(\"Upper Triangular Matrix:\\n\",upper_triangular)\n",
        "\n",
        "# Lower triangular matrix\n",
        "lower_triangular = np.tril(matrix)\n",
        "print(\"Lower Triangular Matrix:\\n\", lower_triangular)"
      ],
      "execution_count": 6,
      "outputs": [
        {
          "output_type": "stream",
          "name": "stdout",
          "text": [
            "Original Matrix:\n",
            " [[0.59813758 0.27320009 0.92180428 0.26438232 0.66343017 0.47337682]\n",
            " [0.4908917  0.79897334 0.24128318 0.06972799 0.85373493 0.23340991]\n",
            " [0.26153778 0.1483859  0.22421552 0.2577361  0.21661576 0.04731807]\n",
            " [0.64844306 0.65506021 0.60283591 0.31593646 0.82029635 0.04191671]\n",
            " [0.4499311  0.65495981 0.89754871 0.60389287 0.88183359 0.05715136]\n",
            " [0.84428226 0.43495663 0.70934631 0.24098296 0.12163903 0.17493458]]\n",
            "Upper Triangular Matrix:\n",
            " [[0.59813758 0.27320009 0.92180428 0.26438232 0.66343017 0.47337682]\n",
            " [0.         0.79897334 0.24128318 0.06972799 0.85373493 0.23340991]\n",
            " [0.         0.         0.22421552 0.2577361  0.21661576 0.04731807]\n",
            " [0.         0.         0.         0.31593646 0.82029635 0.04191671]\n",
            " [0.         0.         0.         0.         0.88183359 0.05715136]\n",
            " [0.         0.         0.         0.         0.         0.17493458]]\n",
            "Lower Triangular Matrix:\n",
            " [[0.59813758 0.         0.         0.         0.         0.        ]\n",
            " [0.4908917  0.79897334 0.         0.         0.         0.        ]\n",
            " [0.26153778 0.1483859  0.22421552 0.         0.         0.        ]\n",
            " [0.64844306 0.65506021 0.60283591 0.31593646 0.         0.        ]\n",
            " [0.4499311  0.65495981 0.89754871 0.60389287 0.88183359 0.        ]\n",
            " [0.84428226 0.43495663 0.70934631 0.24098296 0.12163903 0.17493458]]\n"
          ]
        }
      ]
    },
    {
      "cell_type": "markdown",
      "metadata": {
        "id": "_HeQxIRHouGh"
      },
      "source": [
        "**Diagonal Matrix**: In a diagonal matrix, all the values are zero except the diagonal values"
      ]
    },
    {
      "cell_type": "markdown",
      "metadata": {
        "id": "M6Jelvnf0DCz"
      },
      "source": [
        "3. Create a diagonal matrix of size 3x3 with integer valules and do the following:\n",
        "\n",
        "  i). Create a diagonal matrix with the values above the diagonal elements.\n",
        "  \n",
        "  ii). Create a diagonal matrix with the values below the diagonal elements.\n",
        "\n",
        "\n",
        "\n"
      ]
    },
    {
      "cell_type": "code",
      "metadata": {
        "id": "5mUGk70z0II8",
        "colab": {
          "base_uri": "https://localhost:8080/"
        },
        "outputId": "8c5da900-0bae-4c18-ccc8-93a17e6eb48a"
      },
      "source": [
        "M = np.array([np.arange(73,76),np.arange(32,35), np.arange(57,60)])\n",
        "print(\"Matrix:\\n\",M)\n",
        "\n",
        "# Diagonal Matrix\n",
        "diagonal_matrix = np.diag(np.diag(M))\n",
        "\n",
        "# Using k=1 for getting the diagonal matrix with the values above the diagonal elements\n",
        "above_matrix = np.diag(np.diag(M,k=1))\n",
        "\n",
        "# Using k=-1 for getting the diagonal matrix with the values below the diagonal elements\n",
        "below_matrix = np.diag(np.diag(M,k=-1))\n",
        "\n",
        "print(\"Diagonal Matrix:\\n\",diagonal_matrix)\n",
        "print(\"Matrix Above Diagonal:\\n\",above_matrix)\n",
        "print(\"Matrix Below Diagonal:\\n\",below_matrix)"
      ],
      "execution_count": 7,
      "outputs": [
        {
          "output_type": "stream",
          "name": "stdout",
          "text": [
            "Matrix:\n",
            " [[73 74 75]\n",
            " [32 33 34]\n",
            " [57 58 59]]\n",
            "Diagonal Matrix:\n",
            " [[73  0  0]\n",
            " [ 0 33  0]\n",
            " [ 0  0 59]]\n",
            "Matrix Above Diagonal:\n",
            " [[74  0]\n",
            " [ 0 34]]\n",
            "Matrix Below Diagonal:\n",
            " [[32  0]\n",
            " [ 0 58]]\n"
          ]
        }
      ]
    },
    {
      "cell_type": "markdown",
      "metadata": {
        "id": "36KBw9B2kMIy"
      },
      "source": [
        "Here all the non-diagonal elements are zero."
      ]
    },
    {
      "cell_type": "markdown",
      "metadata": {
        "id": "3LTA6mU2o8n3"
      },
      "source": [
        "**Identity Matrix**: A matrix of size nxn where all diagonal values are 1 and other values are 0 is an identity matrix."
      ]
    },
    {
      "cell_type": "markdown",
      "metadata": {
        "id": "FxI-Dib_0I2J"
      },
      "source": [
        "4. Create a 4x4 identity matrix with integer numbers."
      ]
    },
    {
      "cell_type": "code",
      "metadata": {
        "id": "bT5tpNQ90iid",
        "colab": {
          "base_uri": "https://localhost:8080/"
        },
        "outputId": "118220a6-8b10-44ba-f532-456a276a3f64"
      },
      "source": [
        "x = np.identity(4)\n",
        "print(\"4x4 Identity Matrix:\\n\", x)\n",
        "\n",
        "y = np.identity(4,dtype=int)\n",
        "print(\"4x4 Identity Matrix:\\n\", y)"
      ],
      "execution_count": 8,
      "outputs": [
        {
          "output_type": "stream",
          "name": "stdout",
          "text": [
            "4x4 Identity Matrix:\n",
            " [[1. 0. 0. 0.]\n",
            " [0. 1. 0. 0.]\n",
            " [0. 0. 1. 0.]\n",
            " [0. 0. 0. 1.]]\n",
            "4x4 Identity Matrix:\n",
            " [[1 0 0 0]\n",
            " [0 1 0 0]\n",
            " [0 0 1 0]\n",
            " [0 0 0 1]]\n"
          ]
        }
      ]
    },
    {
      "cell_type": "markdown",
      "metadata": {
        "id": "fmS8azZypCPG"
      },
      "source": [
        "**Null Matrix**: A null matrix has all the values as zero."
      ]
    },
    {
      "cell_type": "markdown",
      "metadata": {
        "id": "W-MJrBp-0jNz"
      },
      "source": [
        "5. Create a null matrix of integers with shape 6x6."
      ]
    },
    {
      "cell_type": "code",
      "metadata": {
        "id": "j6g_s0oZ0pEC",
        "colab": {
          "base_uri": "https://localhost:8080/"
        },
        "outputId": "0815dcfa-2603-4d93-974f-cc8396c33618"
      },
      "source": [
        "null_matrix = np.zeros(shape=(6,6))\n",
        "print(\"Null Matrix:\\n\", null_matrix)"
      ],
      "execution_count": 9,
      "outputs": [
        {
          "output_type": "stream",
          "name": "stdout",
          "text": [
            "Null Matrix:\n",
            " [[0. 0. 0. 0. 0. 0.]\n",
            " [0. 0. 0. 0. 0. 0.]\n",
            " [0. 0. 0. 0. 0. 0.]\n",
            " [0. 0. 0. 0. 0. 0.]\n",
            " [0. 0. 0. 0. 0. 0.]\n",
            " [0. 0. 0. 0. 0. 0.]]\n"
          ]
        }
      ]
    },
    {
      "cell_type": "markdown",
      "metadata": {
        "id": "QL-qwsUtkVfD"
      },
      "source": [
        "### Matrix Transpose, Inverse, and Determinant"
      ]
    },
    {
      "cell_type": "markdown",
      "metadata": {
        "id": "M_T07E3ekn_z"
      },
      "source": [
        "**Transpose**: Transpose operation flips the matrix over its diagonal i.e. replacing rows with coloums and vice-versa."
      ]
    },
    {
      "cell_type": "markdown",
      "metadata": {
        "id": "JJoBZY8v5ULw"
      },
      "source": [
        "1. Create a matrix and find its transpose."
      ]
    },
    {
      "cell_type": "code",
      "metadata": {
        "id": "5y5LK4015pqz",
        "colab": {
          "base_uri": "https://localhost:8080/"
        },
        "outputId": "e2bcc1d3-1697-4978-b6d3-6710290b770b"
      },
      "source": [
        "# Creating a matrix\n",
        "matrix1 = np.array([np.arange(0,3),np.arange(3,6)])\n",
        "print(\"Matrix 1:\\n\", matrix1)\n",
        "\n",
        "# Matrix transpose\n",
        "print(\"Transpose of a Matrix: \\n\", matrix1.T)"
      ],
      "execution_count": 10,
      "outputs": [
        {
          "output_type": "stream",
          "name": "stdout",
          "text": [
            "Matrix 1:\n",
            " [[0 1 2]\n",
            " [3 4 5]]\n",
            "Transpose of a Matrix: \n",
            " [[0 3]\n",
            " [1 4]\n",
            " [2 5]]\n"
          ]
        }
      ]
    },
    {
      "cell_type": "markdown",
      "metadata": {
        "id": "mgVF0bewkuJs"
      },
      "source": [
        "**Inverse**: This operation helps to create a matrix such that when it is multiplied by the original matrix, the result is an identity matrix."
      ]
    },
    {
      "cell_type": "markdown",
      "metadata": {
        "id": "PbBw517f5qlo"
      },
      "source": [
        "2. Find the inverse of a matrix."
      ]
    },
    {
      "cell_type": "code",
      "metadata": {
        "id": "-uDy3dor5thR",
        "colab": {
          "base_uri": "https://localhost:8080/"
        },
        "outputId": "ac9c8b86-2050-4f09-a804-5ccd7633c16c"
      },
      "source": [
        "# Create a matrix\n",
        "A = np.array([[5,6],[7,8]])\n",
        "\n",
        "# Finding the inverse\n",
        "inverse = np.linalg.inv(A)\n",
        "print(\"Inverse of matrix:\\n\",inverse)"
      ],
      "execution_count": 11,
      "outputs": [
        {
          "output_type": "stream",
          "name": "stdout",
          "text": [
            "Inverse of matrix:\n",
            " [[-4.   3. ]\n",
            " [ 3.5 -2.5]]\n"
          ]
        }
      ]
    },
    {
      "cell_type": "markdown",
      "metadata": {
        "id": "J7spkFtt6Rkf"
      },
      "source": [
        "3. Create 3x3 matrix and find the inverse of it."
      ]
    },
    {
      "cell_type": "code",
      "metadata": {
        "id": "D_xu1d126Vfv",
        "colab": {
          "base_uri": "https://localhost:8080/"
        },
        "outputId": "51641a5f-180b-4aca-d217-8e1a9f2b2273"
      },
      "source": [
        "B = np.array([[1,9,3],[4,5,6],[7,8,9]])\n",
        "print(\"Matrix B:\\n\", B)\n",
        "\n",
        "# Finding Inverse\n",
        "inverse = np.linalg.inv(B)\n",
        "print(\"Inverse of matrix:\\n\",inverse)"
      ],
      "execution_count": 12,
      "outputs": [
        {
          "output_type": "stream",
          "name": "stdout",
          "text": [
            "Matrix B:\n",
            " [[1 9 3]\n",
            " [4 5 6]\n",
            " [7 8 9]]\n",
            "Inverse of matrix:\n",
            " [[-0.07142857 -1.35714286  0.92857143]\n",
            " [ 0.14285714 -0.28571429  0.14285714]\n",
            " [-0.07142857  1.30952381 -0.73809524]]\n"
          ]
        }
      ]
    },
    {
      "cell_type": "markdown",
      "metadata": {
        "id": "hE-zpsmDk2Rw"
      },
      "source": [
        "**Determinant**: Determinant of a matrix is a scalar value that helps to characterize the properties of a matrix."
      ]
    },
    {
      "cell_type": "markdown",
      "metadata": {
        "id": "HYnIM35teYko"
      },
      "source": [
        "4. Create a matrix of size 3x3 and find the determinant of it.\n",
        "\n",
        "  To know more about Python libraries, click [here](https://numpy.org/doc/stable/reference/generated/numpy.linalg.det.html)\n",
        "\n",
        "\n"
      ]
    },
    {
      "cell_type": "code",
      "metadata": {
        "id": "O-diJjsHrFqt",
        "colab": {
          "base_uri": "https://localhost:8080/"
        },
        "outputId": "1ef0923f-821d-41ed-b2df-381ec3535095"
      },
      "source": [
        "B = np.array([[1,2,3],[4,5,6],[7,8,9]])\n",
        "D = la.det(B)\n",
        "print(D)"
      ],
      "execution_count": 13,
      "outputs": [
        {
          "output_type": "stream",
          "name": "stdout",
          "text": [
            "0.0\n"
          ]
        }
      ]
    },
    {
      "cell_type": "markdown",
      "metadata": {
        "id": "CmqUEMMRgEpv"
      },
      "source": [
        "5. Create a 4x4 matrix and slice the rows and columns to get the middle sub-matrix and find its determinant."
      ]
    },
    {
      "cell_type": "code",
      "metadata": {
        "id": "MRHkKn25gVcj",
        "colab": {
          "base_uri": "https://localhost:8080/"
        },
        "outputId": "8d2154a9-f9ce-4c38-c54a-7761199d93f8"
      },
      "source": [
        "# Create 4x4 matrix\n",
        "matrix_new = np.array([np.arange(0,4),np.arange(4,8),np.arange(8,12),np.arange(12,16)])\n",
        "print(\"Matrix:\\n\", matrix_new)\n",
        "\n",
        "# Slicing of rows and columns\n",
        "sliced_matrix = matrix_new[1:3,1:3]\n",
        "print(\"Sliced Matrix:\\n\",sliced_matrix)\n",
        "\n",
        "# Finding the determinant\n",
        "determinant = np.linalg.det(sliced_matrix)\n",
        "print(\"Determinant Value:\\n\", determinant)"
      ],
      "execution_count": 14,
      "outputs": [
        {
          "output_type": "stream",
          "name": "stdout",
          "text": [
            "Matrix:\n",
            " [[ 0  1  2  3]\n",
            " [ 4  5  6  7]\n",
            " [ 8  9 10 11]\n",
            " [12 13 14 15]]\n",
            "Sliced Matrix:\n",
            " [[ 5  6]\n",
            " [ 9 10]]\n",
            "Determinant Value:\n",
            " -4.000000000000003\n"
          ]
        }
      ]
    },
    {
      "cell_type": "markdown",
      "metadata": {
        "id": "D09L-6_82V15"
      },
      "source": [
        "\n",
        "### Matrix Operations and Functions\n"
      ]
    },
    {
      "cell_type": "markdown",
      "metadata": {
        "id": "KV4nOjKlm5p0"
      },
      "source": [
        "### Addition"
      ]
    },
    {
      "cell_type": "markdown",
      "metadata": {
        "id": "TOzXXy7B2cGb"
      },
      "source": [
        "1. Create matrix and add a scalar to it.\n",
        "\n",
        "\n",
        "\n"
      ]
    },
    {
      "cell_type": "code",
      "metadata": {
        "id": "CXbsz1aH4m-J",
        "colab": {
          "base_uri": "https://localhost:8080/"
        },
        "outputId": "f79b7d65-b034-4c77-9ed7-7757c2da44ad"
      },
      "source": [
        "matrix1 = np.array([np.arange(27,32),np.arange(53,58),np.arange(33,38),np.arange(91,96)])\n",
        "print(\"Original Matrix:\\n\",matrix1)\n",
        "\n",
        "# Scalar Addition\n",
        "Scalar_add = matrix1 + 1\n",
        "print(\"Resulting Matrix:\\n\",Scalar_add)"
      ],
      "execution_count": 15,
      "outputs": [
        {
          "output_type": "stream",
          "name": "stdout",
          "text": [
            "Original Matrix:\n",
            " [[27 28 29 30 31]\n",
            " [53 54 55 56 57]\n",
            " [33 34 35 36 37]\n",
            " [91 92 93 94 95]]\n",
            "Resulting Matrix:\n",
            " [[28 29 30 31 32]\n",
            " [54 55 56 57 58]\n",
            " [34 35 36 37 38]\n",
            " [92 93 94 95 96]]\n"
          ]
        }
      ]
    },
    {
      "cell_type": "markdown",
      "metadata": {
        "id": "lFrLG5IxhGb7"
      },
      "source": [
        "2. Create two matrices as matrix1 & matrix2. Then, perform addition operation on them.\n",
        "\n",
        "\n",
        "\n",
        "\n",
        "\n",
        "\n",
        "\n",
        "\n"
      ]
    },
    {
      "cell_type": "code",
      "metadata": {
        "id": "glU1W378hKnU",
        "colab": {
          "base_uri": "https://localhost:8080/"
        },
        "outputId": "ab053ec8-f351-4b8b-f185-701c015ba952"
      },
      "source": [
        "# Creating matrices\n",
        "matrix1 = np.array([np.arange(7,10),np.arange(24,27)])\n",
        "matrix2 = np.array([np.arange(16,19),np.arange(33,36)])\n",
        "print(\"Matrix 1:\\n\", matrix1)\n",
        "print(\"Matrix 2:\\n\", matrix2)\n",
        "\n",
        "# Matrix Addition\n",
        "Matrix_addition = matrix1 + matrix2\n",
        "print(\"Matrix Addition: \\n\",Matrix_addition)"
      ],
      "execution_count": 16,
      "outputs": [
        {
          "output_type": "stream",
          "name": "stdout",
          "text": [
            "Matrix 1:\n",
            " [[ 7  8  9]\n",
            " [24 25 26]]\n",
            "Matrix 2:\n",
            " [[16 17 18]\n",
            " [33 34 35]]\n",
            "Matrix Addition: \n",
            " [[23 25 27]\n",
            " [57 59 61]]\n"
          ]
        }
      ]
    },
    {
      "cell_type": "markdown",
      "metadata": {
        "id": "Aho-IiUvm2mu"
      },
      "source": [
        "### Subtraction"
      ]
    },
    {
      "cell_type": "markdown",
      "metadata": {
        "id": "8FaT3Jtn4ncF"
      },
      "source": [
        "3. Create a matrix of size 3x6 and subtract a scalar from it.\n",
        "\n"
      ]
    },
    {
      "cell_type": "code",
      "metadata": {
        "id": "MmCu2FKc4rMQ",
        "colab": {
          "base_uri": "https://localhost:8080/"
        },
        "outputId": "80f3d1c5-f6b8-4939-a14d-f36ae1f3149b"
      },
      "source": [
        "# Creating matrices\n",
        "matrix1 = np.array([np.arange(5,11), np.arange(47,53), np.arange(9,15)])\n",
        "print(\"Matrix 1:\\n\", matrix1)\n",
        "\n",
        "# Scalar Substraction\n",
        "Scalar_sub = matrix1 - np.sin(np.pi/4)\n",
        "print(\"Scalar Subtraction :\\n\",Scalar_sub)"
      ],
      "execution_count": 17,
      "outputs": [
        {
          "output_type": "stream",
          "name": "stdout",
          "text": [
            "Matrix 1:\n",
            " [[ 5  6  7  8  9 10]\n",
            " [47 48 49 50 51 52]\n",
            " [ 9 10 11 12 13 14]]\n",
            "Scalar Subtraction :\n",
            " [[ 4.29289322  5.29289322  6.29289322  7.29289322  8.29289322  9.29289322]\n",
            " [46.29289322 47.29289322 48.29289322 49.29289322 50.29289322 51.29289322]\n",
            " [ 8.29289322  9.29289322 10.29289322 11.29289322 12.29289322 13.29289322]]\n"
          ]
        }
      ]
    },
    {
      "cell_type": "markdown",
      "metadata": {
        "id": "kMJrSRVhpLg2"
      },
      "source": [
        "4. Create two matrices of size 2x3 and subtract second matrix from the first one."
      ]
    },
    {
      "cell_type": "code",
      "metadata": {
        "id": "2ndefVGDpOjC",
        "colab": {
          "base_uri": "https://localhost:8080/"
        },
        "outputId": "b9959806-dac1-43bf-8deb-4997f9c9bceb"
      },
      "source": [
        "# Creating matrices\n",
        "matrix1 = np.array([np.arange(0,3),np.arange(3,6)])\n",
        "matrix2 = np.array([np.arange(6,9),np.arange(9,12)])\n",
        "print(\"Matrix 1:\\n\", matrix1)\n",
        "print(\"Matrix 2:\\n\", matrix2)\n",
        "\n",
        "# Matrix Subtraction\n",
        "Matrix_subtraction = matrix1 - matrix2\n",
        "print(Matrix_subtraction)"
      ],
      "execution_count": 18,
      "outputs": [
        {
          "output_type": "stream",
          "name": "stdout",
          "text": [
            "Matrix 1:\n",
            " [[0 1 2]\n",
            " [3 4 5]]\n",
            "Matrix 2:\n",
            " [[ 6  7  8]\n",
            " [ 9 10 11]]\n",
            "[[-6 -6 -6]\n",
            " [-6 -6 -6]]\n"
          ]
        }
      ]
    },
    {
      "cell_type": "markdown",
      "metadata": {
        "id": "38cMo8C7mxXN"
      },
      "source": [
        "### Division"
      ]
    },
    {
      "cell_type": "markdown",
      "metadata": {
        "id": "6kx-20ES4rt2"
      },
      "source": [
        "5. Create a 4x3 matrix and divide it by a scalar.\n",
        "\n",
        "\n",
        "\n",
        "\n"
      ]
    },
    {
      "cell_type": "code",
      "metadata": {
        "id": "xbyGCdGV4wqg",
        "colab": {
          "base_uri": "https://localhost:8080/"
        },
        "outputId": "7d67deac-e5ca-4440-987c-9b897794c0db"
      },
      "source": [
        "matrix1 = np.array([np.arange(6,9),np.arange(14,17),np.arange(97,100),np.arange(54,57)])\n",
        "print(\"Matrix 1:\\n\", matrix1)\n",
        "\n",
        "# Scalar Division\n",
        "Scalar_div = matrix1/np.cos(np.pi/2)\n",
        "print(\"Scalar Division: \\n\",Scalar_div)"
      ],
      "execution_count": 19,
      "outputs": [
        {
          "output_type": "stream",
          "name": "stdout",
          "text": [
            "Matrix 1:\n",
            " [[ 6  7  8]\n",
            " [14 15 16]\n",
            " [97 98 99]\n",
            " [54 55 56]]\n",
            "Scalar Division: \n",
            " [[9.79874361e+16 1.14318675e+17 1.30649915e+17]\n",
            " [2.28637351e+17 2.44968590e+17 2.61299830e+17]\n",
            " [1.58413022e+18 1.60046146e+18 1.61679270e+18]\n",
            " [8.81886925e+17 8.98218164e+17 9.14549404e+17]]\n"
          ]
        }
      ]
    },
    {
      "cell_type": "markdown",
      "metadata": {
        "id": "YQDSP45Mqr8g"
      },
      "source": [
        "6. Create two matrices and divide the first matrix by the second one."
      ]
    },
    {
      "cell_type": "code",
      "metadata": {
        "id": "DNS6LjQ1quh5",
        "colab": {
          "base_uri": "https://localhost:8080/"
        },
        "outputId": "53871ebe-c7be-448c-cf10-5d490da05e5e"
      },
      "source": [
        "# Creating matrices\n",
        "matrix1 = np.array([np.arange(18,21),np.arange(32,35)])\n",
        "matrix2 = np.array([np.arange(6,9),np.arange(9,12)])\n",
        "print(\"Matrix 1:\\n\", matrix1)\n",
        "print(\"Matrix 2:\\n\", matrix2)\n",
        "\n",
        "# Matrix Division\n",
        "Matrix_div = matrix1/matrix2\n",
        "print(Matrix_div)"
      ],
      "execution_count": 20,
      "outputs": [
        {
          "output_type": "stream",
          "name": "stdout",
          "text": [
            "Matrix 1:\n",
            " [[18 19 20]\n",
            " [32 33 34]]\n",
            "Matrix 2:\n",
            " [[ 6  7  8]\n",
            " [ 9 10 11]]\n",
            "[[3.         2.71428571 2.5       ]\n",
            " [3.55555556 3.3        3.09090909]]\n"
          ]
        }
      ]
    },
    {
      "cell_type": "markdown",
      "metadata": {
        "id": "BUBxYsfN4zp3"
      },
      "source": [
        "### Multiplication"
      ]
    },
    {
      "cell_type": "markdown",
      "metadata": {
        "id": "cqTR0BZZrwJw"
      },
      "source": [
        "7. Create a matrix and mulitply it by a Scalar.\n",
        "\n",
        "\n"
      ]
    },
    {
      "cell_type": "code",
      "metadata": {
        "id": "W6a67QO-r2MS",
        "colab": {
          "base_uri": "https://localhost:8080/"
        },
        "outputId": "dab186c5-771f-437d-e337-aaebd1e3001e"
      },
      "source": [
        "matrix1 = np.array([np.arange(121,126),np.arange(75,80)])\n",
        "print(\"Matrix 1:\\n\", matrix1)\n",
        "\n",
        "# Scalar Product\n",
        "Scalar_product = matrix1*np.sin(3*np.pi/4)\n",
        "print(\"Scalar Product:\\n\", Scalar_product)"
      ],
      "execution_count": 21,
      "outputs": [
        {
          "output_type": "stream",
          "name": "stdout",
          "text": [
            "Matrix 1:\n",
            " [[121 122 123 124 125]\n",
            " [ 75  76  77  78  79]]\n",
            "Scalar Product:\n",
            " [[85.55992052 86.2670273  86.97413409 87.68124087 88.38834765]\n",
            " [53.03300859 53.74011537 54.44722215 55.15432893 55.86143571]]\n"
          ]
        }
      ]
    },
    {
      "cell_type": "markdown",
      "metadata": {
        "id": "OECLxNNplrrR"
      },
      "source": [
        "Multiplication of two matrices is shown in the below diagram:\n",
        "\n"
      ]
    },
    {
      "cell_type": "markdown",
      "metadata": {
        "id": "yHi5zP0ZE5pa"
      },
      "source": [
        "$A.B = \\begin{bmatrix}\n",
        "a & b\\\\\n",
        "c & d\\\\\n",
        "\\end{bmatrix} \\begin{bmatrix}\n",
        "e & f\\\\\n",
        "g & h\\\\\n",
        "\\end{bmatrix} = \\begin{bmatrix}\n",
        "ae+ bg & af+bh\\\\\n",
        "ce+dg & cf+dh\\\\\n",
        "\\end{bmatrix}$"
      ]
    },
    {
      "cell_type": "markdown",
      "metadata": {
        "id": "PbSjmcltr2sz"
      },
      "source": [
        "8. Create two matrices and multiply them.\n",
        "\n",
        "  Note: Here, the corresponding elements are not multiplied. The multiplication rules are different from addition, subtraction, and division."
      ]
    },
    {
      "cell_type": "code",
      "metadata": {
        "id": "neTNogReZeW-",
        "colab": {
          "base_uri": "https://localhost:8080/"
        },
        "outputId": "adf392fb-3a25-4ca5-f527-dc68bfd39938"
      },
      "source": [
        "# Creating matrices\n",
        "matrix1 = np.array([np.arange(5,9),np.arange(2,6)])\n",
        "matrix2 = np.array([np.arange(6,8),np.arange(12,14),np.arange(4,6),np.arange(1,3)])\n",
        "print(\"Matrix 1:\\n\", matrix1)\n",
        "print(\"Matrix 2:\\n\", matrix2)\n",
        "\n",
        "# Dot Product\n",
        "Dot_product = np.dot(matrix1, matrix2)\n",
        "print(\"Dot Product: \\n\",Dot_product)"
      ],
      "execution_count": 22,
      "outputs": [
        {
          "output_type": "stream",
          "name": "stdout",
          "text": [
            "Matrix 1:\n",
            " [[5 6 7 8]\n",
            " [2 3 4 5]]\n",
            "Matrix 2:\n",
            " [[ 6  7]\n",
            " [12 13]\n",
            " [ 4  5]\n",
            " [ 1  2]]\n",
            "Dot Product: \n",
            " [[138 164]\n",
            " [ 69  83]]\n"
          ]
        }
      ]
    },
    {
      "cell_type": "markdown",
      "metadata": {
        "id": "VHfHdGCP_n6Y"
      },
      "source": [
        "### Please answer the questions below to complete the experiment:\n",
        "\n",
        "\n"
      ]
    },
    {
      "cell_type": "markdown",
      "source": [
        "Consider the statements given below and answer Q1.\n",
        "\n",
        "\n",
        "A. Every skew-symmetric matrix of odd order is non-singular\n",
        "\n",
        "B. If determinant of a square matrix is non-zero, then it is non singular\n",
        "\n",
        "C. Adjoint of symmetric matrix is symmetric\n",
        "\n",
        "D. Adjoint of a diagonal matrix is diagonal"
      ],
      "metadata": {
        "id": "Ibp8o1S_Gmp0"
      }
    },
    {
      "cell_type": "code",
      "metadata": {
        "cellView": "form",
        "id": "-INhmnH1RDq0"
      },
      "source": [
        "#@title Q.1. Which of the above statements is/are False?\n",
        "Answer1 = \"Only A\" #@param [\"\",\"Only A\",\"Both A & B\",\"Only B\", \"Only C\", \"Only D\", \"Both B & C\"]\n"
      ],
      "execution_count": 23,
      "outputs": []
    },
    {
      "cell_type": "markdown",
      "source": [
        "Consider the matrix A and the values of a, b, and c given below for answering Q.2.\n",
        "\n",
        "$A = \\begin{bmatrix}\n",
        "0 & 2b & c   \\\\\n",
        "a & b & -c   \\\\\n",
        "a & -b & c   \\\\\n",
        "\\end{bmatrix}$\n",
        "\n",
        "<br>\n",
        "\n",
        "A). a = $\\pm \\frac{1}{\\sqrt{6}} $, b = $\\pm \\frac{1}{\\sqrt{2}}$ , c = $\\pm \\frac{1}{\\sqrt{2}} $\n",
        "\n",
        "\n",
        "<br>\n",
        "\n",
        "B). a = $\\pm \\frac{1}{\\sqrt{6}} $, b = $\\pm \\frac{1}{\\sqrt{3}}$ , c = $\\pm \\frac{1}{\\sqrt{2}} $\n",
        "\n",
        "\n",
        "<br>\n",
        "\n",
        "C). a = $\\pm \\frac{1}{\\sqrt{2}} $, b = $\\pm \\frac{1}{\\sqrt{6}}$ , c = $\\pm \\frac{1}{\\sqrt{3}} $\n",
        "\n",
        "<br>\n",
        "\n",
        "D). a = $\\pm \\frac{1}{\\sqrt{2}} $, b = $\\pm \\frac{1}{\\sqrt{2}}$ , c = $\\pm \\frac{1}{\\sqrt{2}} $"
      ],
      "metadata": {
        "id": "zUG3igTEJrLL"
      }
    },
    {
      "cell_type": "code",
      "metadata": {
        "id": "UX24XAeIJ6Nf",
        "cellView": "form"
      },
      "source": [
        "#@title Q.2. If 'A' is an orthogonal matrix, then, what will be the values of a, b, and c.\n",
        "Answer2 = \"Only A\" #@param [\"\",\"Only A\",\"Only B\",\"Only C\",\"Only D\", \"None of the above\"]\n"
      ],
      "execution_count": 24,
      "outputs": []
    },
    {
      "cell_type": "code",
      "metadata": {
        "id": "NMzKSbLIgFzQ"
      },
      "source": [
        "#@title How was the experiment? { run: \"auto\", form-width: \"500px\", display-mode: \"form\" }\n",
        "Complexity = \"Good, But Not Challenging for me\" #@param [\"\",\"Too Simple, I am wasting time\", \"Good, But Not Challenging for me\", \"Good and Challenging for me\", \"Was Tough, but I did it\", \"Too Difficult for me\"]\n"
      ],
      "execution_count": 25,
      "outputs": []
    },
    {
      "cell_type": "code",
      "metadata": {
        "id": "DjcH1VWSFI2l"
      },
      "source": [
        "#@title If it was too easy, what more would you have liked to be added? If it was very difficult, what would you have liked to have been removed? { run: \"auto\", display-mode: \"form\" }\n",
        "Additional = \"NA\" #@param {type:\"string\"}\n"
      ],
      "execution_count": 26,
      "outputs": []
    },
    {
      "cell_type": "code",
      "metadata": {
        "id": "4VBk_4VTAxCM"
      },
      "source": [
        "#@title Can you identify the concepts from the lecture which this experiment covered? { run: \"auto\", vertical-output: true, display-mode: \"form\" }\n",
        "Concepts = \"Yes\" #@param [\"\",\"Yes\", \"No\"]\n"
      ],
      "execution_count": 28,
      "outputs": []
    },
    {
      "cell_type": "code",
      "metadata": {
        "id": "XH91cL1JWH7m"
      },
      "source": [
        "#@title  Text and image description/explanation and code comments within the experiment: { run: \"auto\", vertical-output: true, display-mode: \"form\" }\n",
        "Comments = \"Very Useful\" #@param [\"\",\"Very Useful\", \"Somewhat Useful\", \"Not Useful\", \"Didn't use\"]\n"
      ],
      "execution_count": 29,
      "outputs": []
    },
    {
      "cell_type": "code",
      "metadata": {
        "id": "z8xLqj7VWIKW"
      },
      "source": [
        "#@title Mentor Support: { run: \"auto\", vertical-output: true, display-mode: \"form\" }\n",
        "Mentor_support = \"Very Useful\" #@param [\"\",\"Very Useful\", \"Somewhat Useful\", \"Not Useful\", \"Didn't use\"]\n"
      ],
      "execution_count": 30,
      "outputs": []
    },
    {
      "cell_type": "code",
      "metadata": {
        "id": "FzAZHt1zw-Y-",
        "colab": {
          "base_uri": "https://localhost:8080/"
        },
        "outputId": "63bfa43d-9868-4a6f-ca47-06ab640a4f33"
      },
      "source": [
        "#@title Run this cell to submit your notebook for grading { vertical-output: true }\n",
        "try:\n",
        "  if submission_id:\n",
        "      return_id = submit_notebook()\n",
        "      if return_id : submission_id = return_id\n",
        "  else:\n",
        "      print(\"Please complete the setup first.\")\n",
        "except NameError:\n",
        "  print (\"Please complete the setup first.\")"
      ],
      "execution_count": 31,
      "outputs": [
        {
          "output_type": "stream",
          "name": "stdout",
          "text": [
            "Your submission is successful.\n",
            "Ref Id: 148\n",
            "Date of submission:  06 Dec 2024\n",
            "Time of submission:  20:12:55\n",
            "View your submissions: https://learn-iisc.talentsprint.com/notebook_submissions\n"
          ]
        }
      ]
    }
  ]
}